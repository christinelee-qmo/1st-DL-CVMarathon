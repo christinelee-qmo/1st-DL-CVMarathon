{
 "cells": [
  {
   "cell_type": "markdown",
   "metadata": {},
   "source": [
    "# API 資料串接 - 以 Dcard API 實作範例\n",
    "\n",
    "* 了解 Dcard API 使用方式與回傳內容\n",
    "* 撰寫程式存取 API 且解析 JSON 格式資料\n"
   ]
  },
  {
   "cell_type": "markdown",
   "metadata": {},
   "source": [
    "## 作業目標\n",
    "\n",
    "* 請利用 API: https://www.dcard.tw/_api/forums/pet/posts?popular=true 回答下列問題：\n",
    "\n",
    "1. 這個 API 一次會回傳幾筆資料？每一筆資料包含哪些欄位？\n",
    "2. 取出每一筆資料的「標題」、「貼文時間」、「留言人數」、「按讚人數」\n",
    "3. 計算熱門/非熱門文章的「平均留言人數」與「平均按讚人數」"
   ]
  },
  {
   "cell_type": "code",
   "execution_count": 14,
   "metadata": {},
   "outputs": [
    {
     "data": {
      "text/plain": [
       "'<!DOCTYPE html>\\n<!--[if lt IE 7]> <html class=\"no-js ie6 oldie\" lang=\"en-US\"> <![endif]-->\\n<!--[if IE 7]>    <html class=\"no-js ie7 oldie\" lang=\"en-US\"> <![endif]-->\\n<!--[if IE 8]>    <html class=\"no-js ie8 oldie\" lang=\"en-US\"> <![endif]-->\\n<!--[if gt IE 8]><!--> <html class=\"no-js\" lang=\"en-US\"> <!--<![endif]-->\\n<head>\\n\\n<title>Attention Required! | Cloudflare</title>\\n\\n\\n<meta charset=\"UTF-8\" />\\n<meta http-equiv=\"Content-Type\" content=\"text/html; charset=UTF-8\" />\\n<meta http-equiv=\"X-UA-Compatible\" content=\"IE=Edge,chrome=1\" />\\n<meta name=\"robots\" content=\"noindex, nofollow\" />\\n<meta name=\"viewport\" content=\"width=device-width,initial-scale=1\" />\\n<link rel=\"stylesheet\" id=\"cf_styles-css\" href=\"/cdn-cgi/styles/cf.errors.css\" type=\"text/css\" media=\"screen,projection\" />\\n<!--[if lt IE 9]><link rel=\"stylesheet\" id=\\'cf_styles-ie-css\\' href=\"/cdn-cgi/styles/cf.errors.ie.css\" type=\"text/css\" media=\"screen,projection\" /><![endif]-->\\n<style type=\"text/css\">body{margin:0;padding:0}</style>\\n\\n\\n<!--[if gte IE 10]><!-->\\n<script>\\n  if (!navigator.cookieEnabled) {\\n    window.addEventListener(\\'DOMContentLoaded\\', function () {\\n      var cookieEl = document.getElementById(\\'cookie-alert\\');\\n      cookieEl.style.display = \\'block\\';\\n    })\\n  }\\n</script>\\n<!--<![endif]-->\\n\\n\\n  \\n    <script type=\"text/javascript\">\\n    //<![CDATA[\\n    (function(){\\n      window._cf_chl_opt={\\n        cvId: \"2\",\\n        cType: \"interactive\",\\n        cNounce: \"71876\",\\n        cRay: \"6207b99cfdc194c7\",\\n        cHash: \"f112f9d6a99def3\",\\n        cFPWv: \"g\",\\n        cLt: \"n\",\\n        cRq: {\\n          ru: \"aHR0cHM6Ly93d3cuZGNhcmQudHcvX2FwaS9mb3J1bXMvcGV0L3Bvc3RzP3BvcHVsYXI9dHJ1ZQ==\",\\n          ra: \"cHl0aG9uLXJlcXVlc3RzLzIuMjUuMQ==\",\\n          rm: \"UE9TVA==\",\\n          d: \"CvCfMZutXsUhp423ak1+u1/S7IsxXJV+XmdYjuxy78LpYwHJaUEcNYg+VeVwEZu4enzuWL0wQYnDOfg1WWpL6IYTycoEdowFVltOCOVxCShWf+Vfcfei2jrPBPt6hNNDu6gno7vRhWlUKNrOMRC95eB9LMLagY/e4nUqkqh3kCA+GyOLfYgmrbw2RaWpEKKaNeqwWLH1Thl+AWslfyWwsExyPq80pvllycDiTYWt+P3YrG3pgwRyNoNkNcVm0xWy7dlFH0elVliHbqbPpnHzq/GT7JNxQ+vyyoXzSaBrEOFsF2C6BOVnWRaoSK81uz/b/ezMXCxWFxnDI5mzpscmV6befNAvJWQfeAimk88bWOdkYlRA9iRtZtzyDUpVmFeo5UENQCN4oz5oxp5NmzHey5xIyiYpTdAmNC9vT0hg50yp4fASvCusVcfj66oQS9BiwFv7ihHZEcJHjwJRYbZX9jOxvPHoputzEZCTbBC5gEgmxb/TwITpCIXnYg/k8xQ2h3UUjReJdbuu1+3HYT1x2FYMD+i46B4EEDTcS6asRoLhQXgFx15dUSLcTAisplu3SXrp0a3P66JVp65qspctLcn3IYMyNq4QSwH5EjQ5iOJ+CVliVObSmi85bYt/sM+J8eVOHybMpFehhD4J5zefKpa1nohzIp34SRuLwF4NaP8TobMO5BwngQBYHiJc4fEQmfdy20/GFl096QsxZflJiCsZWuXyUBYnvYW6RP7HH0gqzh9DTbLdqpcEJ8A83Db1GYENpz+doPfLdx6ZaY+3sCCT+8tgu08xlaa59PFze4xBZa8Rg39nJQlkPiAyf008\",\\n          t: \"MTYxMzE0Nzc0OS45MzIwMDA=\",\\n          m: \"SHGumQppQ/p5SBBazwDr6a1JDInAiJYLrg6y51Wo8YA=\",\\n          i1: \"ZxpTZYxu2jt9KeQZlYuz4Q==\",\\n          i2: \"y+X96rKXFFx+MAT9Vf59jw==\",\\n          uh: \"5GU+jYv2xJ+bCaE/ARmi/DORbiS/v56CW7E0TH4XWQk=\",\\n          hh: \"zRzOAigP6xcxnKf5snryJLVJgndZSARNtnIbgQqzl/Q=\",\\n        }\\n      };\\n    }());\\n    //]]>\\n    </script>\\n  \\n\\n<style type=\"text/css\">\\n  #cf-wrapper #spinner {width:69px; margin:  auto;}\\n  #cf-wrapper #cf-please-wait{text-align:center}\\n  .attribution {margin-top: 32px;}\\n  .bubbles { background-color: #f58220; width:20px; height: 20px; margin:2px; border-radius:100%; display:inline-block; }\\n  #cf-wrapper #challenge-form { padding-top:25px; padding-bottom:25px; }\\n  #cf-hcaptcha-container { text-align:center;}\\n  #cf-hcaptcha-container iframe { display: inline-block;}\\n  @keyframes fader     { 0% {opacity: 0.2;} 50% {opacity: 1.0;} 100% {opacity: 0.2;} }\\n  #cf-wrapper #cf-bubbles { width:69px; }\\n  @-webkit-keyframes fader { 0% {opacity: 0.2;} 50% {opacity: 1.0;} 100% {opacity: 0.2;} }\\n  #cf-bubbles > .bubbles { animation: fader 1.6s infinite;}\\n  #cf-bubbles > .bubbles:nth-child(2) { animation-delay: .2s;}\\n  #cf-bubbles > .bubbles:nth-child(3) { animation-delay: .4s;}\\n</style>\\n</head>\\n<body>\\n  <div id=\"cf-wrapper\">\\n    <div class=\"cf-alert cf-alert-error cf-cookie-error\" id=\"cookie-alert\" data-translate=\"enable_cookies\">Please enable cookies.</div>\\n    <div id=\"cf-error-details\" class=\"cf-error-details-wrapper\">\\n      <div class=\"cf-wrapper cf-header cf-error-overview\">\\n      \\n        <h1 data-translate=\"challenge_headline\">One more step</h1>\\n        <h2 class=\"cf-subheadline\"><span data-translate=\"complete_sec_check\">Please complete the security check to access</span> www.dcard.tw</h2>\\n      \\n      </div>\\n      \\n      <div class=\"cf-section cf-highlight cf-captcha-container\">\\n        <div class=\"cf-wrapper\">\\n          <div class=\"cf-columns two\">\\n            <div class=\"cf-column\">\\n            \\n              <div class=\"cf-highlight-inverse cf-form-stacked\">\\n                <form class=\"challenge-form interactive-form\" id=\"challenge-form\" action=\"/_api/forums/pet/posts?popular=true&amp;__cf_chl_captcha_tk__=27e83ffa213f80ae6e1cf37456d091f9722fb35e-1613147749-0-AZW5jyyT9rnIEGSGrVmiWZnpdr9vc39g_Lw2qJQozGcHaYKkHp5qDdwt5qJzikjDqmLyINGeuiXXkcQ_hKB9BBerCivKNJSEHDcxi-aJtQPYH1gXsSTa1J7QCC19uurmiIcmBcNsoYulmJAxT7gJWEBgCTCFn6Syv16jViXJ4L_59r4ryAPsVeos2tF390vNbmQCypyuT72oegerp-pl8MK9bGHGR87MG7v4ufxHhTOTjoQGiUJ59lLnjOGRQGwoQ8Vc_Y53Q1wfCk1tjxPogENT0Uw88RDR56w2gIPGe03d_iQU-na_ioVjXBa8UXdPNPzYPRw8J_s08BcjjgTM08FQ7Mx0HfB6t3AANjXjIq5o7RgYzZK0evj0zBh4YoXqYvLaKujrXbD5fc3yN_JNR5Ap-MP5Z1Nqll54iiTU9-eEK6Y3suZ7cpHg3z-BJXKidAhGdzQHsl7Bkhc5OSmpl7DFpa6pbkktE_VlRdCfU7Iama28EchV6C7_fZUZrhL8fM4EncedRyI1ghLOj_cbhagvbXZFpEQXihDNeRYT65uC3Zt3BSX7NdpFktDlU0prwAHrIFRtpIU95T8fsyBikgPeEUSrSrnYF7_3YTG0BkZvVSOMjYG_v2MMiSPHG3fukA\" method=\"POST\" enctype=\"application/x-www-form-urlencoded\">\\n  \\n    <div id=\\'cf-please-wait\\'>\\n      <div id=\\'spinner\\'>\\n        <div id=\"cf-bubbles\">\\n            <div class=\"bubbles\"></div>\\n            <div class=\"bubbles\"></div>\\n            <div class=\"bubbles\"></div>\\n        </div>\\n      </div>\\n      <p data-translate=\"please_wait\" id=\"cf-spinner-please-wait\">Please stand by, while we are checking your browser...</p>\\n      <p data-translate=\"redirecting\" id=\"cf-spinner-redirecting\" style=\"display:none\">Redirecting...</p>\\n      </div>\\n  \\n  <input type=\"hidden\" name=\"r\" value=\"84fa0597a73c149ba2cb943e17e35026a963f23e-1613147749-0-AXkHJUybEJl9a/xt2I+91X63emY+tAYh1/5jzB2TJBfR8Zi9G84u18vrc91sq2Xwp1DIhqVmqdWwAovmi0w4sNwfEPRFAgwruYyjNMUIIm6mdWIn38xEoKUd1TLM/DRuZGX8SlBK7EXwWOy+SqT23dWjVh4AO9vp0W1Fa7MnfQv3zowZ3yrUEJVV/LrKxF5RJmo5AUncCa2W0EB+ka2cXH1JIClkrFhQza4TyPev9qsJDzFDq3vdOmw2KQf4gxEaf6uoHOMzMfT8LmNYaKfYOJcIvPSdFzO1KqaqepmO1AeW14NqznmpxPB9PlDV8YAxpsDw/DFDgeCocdSNBJo6NL5gFO7PGO7ny9HWu1bj8HktXiaOA6pJ7sNQleo5sdIktIjYf9V5zx7x/MjmAvJs6AgL/d7KAWv5CbTR8CSAE6MasIb7+AjUEnar+d/sH+kNMXH4EGIv6fxWGMvI2Jqbbij6TIGABdON6E23HNpEPXu8/amdCJuYKUs26zc3zf+DR+SeakKFXLzAtwlfiEBQAJTqTdhaplmxLDh5Vu2+F7oNhClYV78cw4CZK2pnLzyyETpdle0JdVrC8it18sb8E3JiGpYlKTOghXi6f9/mN74N4Ccu5Tn0a/5RbYpEmDQCK6pd4pX5bqbY3MefbXL84McPJv8A8nueJmsVOfXuZTTmyOu48BMSuGNU00/17/uDcKdIftKDU6I3hkH/yhO9nkbEDl+70Zqgf2vkbJr5aijh/fZRWkr4MHawcn8Zla6xkHfE0se4XeoDexIdlyFwWgVlfhbtZdhM+pFwOmWeXgrb0/fDTnnrX8yd7fm9OGqpFtOsYGNYsPnDehAGVe5UT97p/DmMtDtwEagwLku0ErK+vsSs2NC1N2n75rQgMoB2+s1iC9x9Qw7B4F2AhQ6hI4QuPenM0SGlSqAPDXaMje+xAmnWTywlJFB0+VBXjMRK75N49jBrdfWJvtjnqOHqsCNyS/6IE7pxlw8jiiDUSn8Io0tliz7sRuxoYP4yEzarLAjpYsqCKXa5eg04Zn1CFvFkmWkdeJfv/oo5Ve+SLnWbSvzauVikgXPA15+MzTKwIW9K+lkNcgWXVFLzrsSc+TT+rjLz2zEFAX8epubdb0Z32OFgHuGyJ9au9IiWTlNarLNJtyqNHiJNWRg5zccBEN9ylPrMAVvH3QySuUMKyPBuw6VOJi0VzGBjzhUbX7/KExE3RhYQ6KNz9auA4z1TDRFlvv6kzanoibj8bxIx56IPC0yfmrzofy2cnIXLg4Aynr+sx2orjArCVLG+52A9ZugtJ33zI5qzcVJbLbLDJpRzx8NW9qKumxl2fKFN676L6BIRCd8MIqE8W5oNvY08k0+VlgPghyg8iQymRHPG86Dz0fpkDFbMgev+lyJpWIhlJbGi2ZbMH1ysys5g8putSzZfGQaqQkUQEIvgQf29gJ+RgaWiWexK3eIN9xTzqf+6ifTQVuTHSPaZdCfKdspBaxTDKdYBJUMiryYCpaWQmcI2mkvrzSiQZquB1OETkouvXNHt7xGBj1vRls8s2+3CZG6sLMOs9dEB7mP99DHaKcFGA2xbd11JUYnb8VpGTQExnsD84EO3UVO7PZgMY0sRPr9PB3T669hNNuYCxOpmUGKQ1dTG2tQrZItxy50vXTeimhq5MczFYfFNGol8jX/1aa8WW4YvrwkxBSwVq1UVb0bFc7LVGJ++zB1HdBOZIKsRCyspWwiKUi8RdcC1p2kBIufhHWIDlvsv9qolbDreoJKE\">\\n  <input type=\"hidden\" name=\"cf_captcha_kind\" value=\"h\">\\n  <input type=\"hidden\" name=\"vc\" value=\"fe6db3f74eddeb146be1a0741619ed8e\">\\n  \\n  <noscript id=\"cf-captcha-bookmark\" class=\"cf-captcha-info\">\\n  <h1 data-translate=\"turn_on_js\" style=\"color:#bd2426;\">Please turn JavaScript on and reload the page.</h1>\\n  </noscript>\\n    <div id=\"no-cookie-warning\" class=\"cookie-warning\" data-translate=\"turn_on_cookies\" style=\"display:none\">\\n      <p data-translate=\"turn_on_cookies\" style=\"color:#bd2426;\">Please enable Cookies and reload the page.</p>\\n    </div>\\n  <script type=\"text/javascript\">\\n  //<![CDATA[\\n    var a = function() {try{return !!window.addEventListener} catch(e) {return !1} },\\n      b = function(b, c) {a() ? document.addEventListener(\"DOMContentLoaded\", b, c) : document.attachEvent(\"onreadystatechange\", b)};\\n      b(function(){\\n        var cookiesEnabled=(navigator.cookieEnabled)? true : false;\\n        if(!cookiesEnabled){\\n          var q = document.getElementById(\\'no-cookie-warning\\');q.style.display = \\'block\\';\\n        }\\n      });\\n  //]]>\\n  </script>\\n  <div id=\"trk_captcha_js\" style=\"background-image:url(\\'/cdn-cgi/images/trace/captcha/nojs/h/transparent.gif?ray=6207b99cfdc194c7\\')\"></div>\\n</form>\\n  \\n  <script type=\"text/javascript\">\\n    //<![CDATA[\\n    (function(){\\n        var isIE = /(MSIE|Trident\\\\/|Edge\\\\/)/i.test(window.navigator.userAgent);\\n        var trkjs = isIE ? new Image() : document.createElement(\\'img\\');\\n        trkjs.setAttribute(\"src\", \"/cdn-cgi/images/trace/jschal/js/transparent.gif?ray=6207b99cfdc194c7\");\\n        trkjs.id = \"trk_jschal_js\";\\n        trkjs.setAttribute(\"alt\", \"\");\\n        document.body.appendChild(trkjs);\\n        var cpo=document.createElement(\\'script\\');\\n        cpo.type=\\'text/javascript\\';\\n        cpo.src=\"/cdn-cgi/challenge-platform/h/g/orchestrate/captcha/v1\";\\n        document.getElementsByTagName(\\'head\\')[0].appendChild(cpo);\\n    }());\\n    //]]>\\n    </script>\\n  \\n\\n\\n              </div>\\n            </div>\\n\\n            <div class=\"cf-column\">\\n              <div class=\"cf-screenshot-container\">\\n              \\n                <span class=\"cf-no-screenshot\"></span>\\n              \\n              </div>\\n            </div>\\n          </div>\\n        </div>\\n      </div>\\n\\n      <div class=\"cf-section cf-wrapper\">\\n        <div class=\"cf-columns two\">\\n          <div class=\"cf-column\">\\n            <h2 data-translate=\"why_captcha_headline\">Why do I have to complete a CAPTCHA?</h2>\\n            \\n            <p data-translate=\"why_captcha_detail\">Completing the CAPTCHA proves you are a human and gives you temporary access to the web property.</p>\\n          </div>\\n\\n          <div class=\"cf-column\">\\n            <h2 data-translate=\"resolve_captcha_headline\">What can I do to prevent this in the future?</h2>\\n            \\n\\n            <p data-translate=\"resolve_captcha_antivirus\">If you are on a personal connection, like at home, you can run an anti-virus scan on your device to make sure it is not infected with malware.</p>\\n\\n            <p data-translate=\"resolve_captcha_network\">If you are at an office or shared network, you can ask the network administrator to run a scan across the network looking for misconfigured or infected devices.</p>\\n            \\n          </div>\\n        </div>\\n      </div>\\n      \\n\\n      <div class=\"cf-error-footer cf-wrapper w-240 lg:w-full py-10 sm:py-4 sm:px-8 mx-auto text-center sm:text-left border-solid border-0 border-t border-gray-300\">\\n  <p class=\"text-13\">\\n    <span class=\"cf-footer-item sm:block sm:mb-1\">Cloudflare Ray ID: <strong class=\"font-semibold\">6207b99cfdc194c7</strong></span>\\n    <span class=\"cf-footer-separator sm:hidden\">&bull;</span>\\n    <span class=\"cf-footer-item sm:block sm:mb-1\"><span>Your IP</span>: 116.64.230.78</span>\\n    <span class=\"cf-footer-separator sm:hidden\">&bull;</span>\\n    <span class=\"cf-footer-item sm:block sm:mb-1\"><span>Performance &amp; security by</span> <a rel=\"noopener noreferrer\" href=\"https://www.cloudflare.com/5xx-error-landing\" id=\"brand_link\" target=\"_blank\">Cloudflare</a></span>\\n    \\n  </p>\\n</div><!-- /.error-footer -->\\n\\n\\n    </div>\\n  </div>\\n\\n  <script type=\"text/javascript\">\\n  window._cf_translation = {};\\n  \\n  \\n</script>\\n\\n\\n</body>\\n</html>\\n'"
      ]
     },
     "execution_count": 14,
     "metadata": {},
     "output_type": "execute_result"
    }
   ],
   "source": [
    "# 1. 這個 API 一次會回傳幾筆資料？每一筆資料包含哪些欄位？\n",
    "\n",
    "import requests\n",
    "import json\n",
    "r = requests.get('https://www.dcard.tw/_api/forums/pet/posts?popular=true')\n",
    "r.text"
   ]
  },
  {
   "cell_type": "code",
   "execution_count": 15,
   "metadata": {},
   "outputs": [
    {
     "ename": "JSONDecodeError",
     "evalue": "Expecting value: line 1 column 1 (char 0)",
     "output_type": "error",
     "traceback": [
      "\u001b[0;31m---------------------------------------------------------------------------\u001b[0m",
      "\u001b[0;31mJSONDecodeError\u001b[0m                           Traceback (most recent call last)",
      "\u001b[0;32m<ipython-input-15-51550e3275dd>\u001b[0m in \u001b[0;36m<module>\u001b[0;34m\u001b[0m\n\u001b[1;32m      2\u001b[0m \u001b[0;34m\u001b[0m\u001b[0m\n\u001b[1;32m      3\u001b[0m \u001b[0;32mimport\u001b[0m \u001b[0mjson\u001b[0m\u001b[0;34m\u001b[0m\u001b[0;34m\u001b[0m\u001b[0m\n\u001b[0;32m----> 4\u001b[0;31m \u001b[0mdata\u001b[0m \u001b[0;34m=\u001b[0m \u001b[0mjson\u001b[0m\u001b[0;34m.\u001b[0m\u001b[0mloads\u001b[0m\u001b[0;34m(\u001b[0m\u001b[0mresponse\u001b[0m\u001b[0;34m)\u001b[0m\u001b[0;34m\u001b[0m\u001b[0;34m\u001b[0m\u001b[0m\n\u001b[0m\u001b[1;32m      5\u001b[0m \u001b[0;34m\u001b[0m\u001b[0m\n\u001b[1;32m      6\u001b[0m \u001b[0;32mfor\u001b[0m \u001b[0md\u001b[0m \u001b[0;32min\u001b[0m \u001b[0mdata\u001b[0m\u001b[0;34m:\u001b[0m\u001b[0;34m\u001b[0m\u001b[0;34m\u001b[0m\u001b[0m\n",
      "\u001b[0;32m/Library/Frameworks/Python.framework/Versions/3.9/lib/python3.9/json/__init__.py\u001b[0m in \u001b[0;36mloads\u001b[0;34m(s, cls, object_hook, parse_float, parse_int, parse_constant, object_pairs_hook, **kw)\u001b[0m\n\u001b[1;32m    344\u001b[0m             \u001b[0mparse_int\u001b[0m \u001b[0;32mis\u001b[0m \u001b[0;32mNone\u001b[0m \u001b[0;32mand\u001b[0m \u001b[0mparse_float\u001b[0m \u001b[0;32mis\u001b[0m \u001b[0;32mNone\u001b[0m \u001b[0;32mand\u001b[0m\u001b[0;34m\u001b[0m\u001b[0;34m\u001b[0m\u001b[0m\n\u001b[1;32m    345\u001b[0m             parse_constant is None and object_pairs_hook is None and not kw):\n\u001b[0;32m--> 346\u001b[0;31m         \u001b[0;32mreturn\u001b[0m \u001b[0m_default_decoder\u001b[0m\u001b[0;34m.\u001b[0m\u001b[0mdecode\u001b[0m\u001b[0;34m(\u001b[0m\u001b[0ms\u001b[0m\u001b[0;34m)\u001b[0m\u001b[0;34m\u001b[0m\u001b[0;34m\u001b[0m\u001b[0m\n\u001b[0m\u001b[1;32m    347\u001b[0m     \u001b[0;32mif\u001b[0m \u001b[0mcls\u001b[0m \u001b[0;32mis\u001b[0m \u001b[0;32mNone\u001b[0m\u001b[0;34m:\u001b[0m\u001b[0;34m\u001b[0m\u001b[0;34m\u001b[0m\u001b[0m\n\u001b[1;32m    348\u001b[0m         \u001b[0mcls\u001b[0m \u001b[0;34m=\u001b[0m \u001b[0mJSONDecoder\u001b[0m\u001b[0;34m\u001b[0m\u001b[0;34m\u001b[0m\u001b[0m\n",
      "\u001b[0;32m/Library/Frameworks/Python.framework/Versions/3.9/lib/python3.9/json/decoder.py\u001b[0m in \u001b[0;36mdecode\u001b[0;34m(self, s, _w)\u001b[0m\n\u001b[1;32m    335\u001b[0m \u001b[0;34m\u001b[0m\u001b[0m\n\u001b[1;32m    336\u001b[0m         \"\"\"\n\u001b[0;32m--> 337\u001b[0;31m         \u001b[0mobj\u001b[0m\u001b[0;34m,\u001b[0m \u001b[0mend\u001b[0m \u001b[0;34m=\u001b[0m \u001b[0mself\u001b[0m\u001b[0;34m.\u001b[0m\u001b[0mraw_decode\u001b[0m\u001b[0;34m(\u001b[0m\u001b[0ms\u001b[0m\u001b[0;34m,\u001b[0m \u001b[0midx\u001b[0m\u001b[0;34m=\u001b[0m\u001b[0m_w\u001b[0m\u001b[0;34m(\u001b[0m\u001b[0ms\u001b[0m\u001b[0;34m,\u001b[0m \u001b[0;36m0\u001b[0m\u001b[0;34m)\u001b[0m\u001b[0;34m.\u001b[0m\u001b[0mend\u001b[0m\u001b[0;34m(\u001b[0m\u001b[0;34m)\u001b[0m\u001b[0;34m)\u001b[0m\u001b[0;34m\u001b[0m\u001b[0;34m\u001b[0m\u001b[0m\n\u001b[0m\u001b[1;32m    338\u001b[0m         \u001b[0mend\u001b[0m \u001b[0;34m=\u001b[0m \u001b[0m_w\u001b[0m\u001b[0;34m(\u001b[0m\u001b[0ms\u001b[0m\u001b[0;34m,\u001b[0m \u001b[0mend\u001b[0m\u001b[0;34m)\u001b[0m\u001b[0;34m.\u001b[0m\u001b[0mend\u001b[0m\u001b[0;34m(\u001b[0m\u001b[0;34m)\u001b[0m\u001b[0;34m\u001b[0m\u001b[0;34m\u001b[0m\u001b[0m\n\u001b[1;32m    339\u001b[0m         \u001b[0;32mif\u001b[0m \u001b[0mend\u001b[0m \u001b[0;34m!=\u001b[0m \u001b[0mlen\u001b[0m\u001b[0;34m(\u001b[0m\u001b[0ms\u001b[0m\u001b[0;34m)\u001b[0m\u001b[0;34m:\u001b[0m\u001b[0;34m\u001b[0m\u001b[0;34m\u001b[0m\u001b[0m\n",
      "\u001b[0;32m/Library/Frameworks/Python.framework/Versions/3.9/lib/python3.9/json/decoder.py\u001b[0m in \u001b[0;36mraw_decode\u001b[0;34m(self, s, idx)\u001b[0m\n\u001b[1;32m    353\u001b[0m             \u001b[0mobj\u001b[0m\u001b[0;34m,\u001b[0m \u001b[0mend\u001b[0m \u001b[0;34m=\u001b[0m \u001b[0mself\u001b[0m\u001b[0;34m.\u001b[0m\u001b[0mscan_once\u001b[0m\u001b[0;34m(\u001b[0m\u001b[0ms\u001b[0m\u001b[0;34m,\u001b[0m \u001b[0midx\u001b[0m\u001b[0;34m)\u001b[0m\u001b[0;34m\u001b[0m\u001b[0;34m\u001b[0m\u001b[0m\n\u001b[1;32m    354\u001b[0m         \u001b[0;32mexcept\u001b[0m \u001b[0mStopIteration\u001b[0m \u001b[0;32mas\u001b[0m \u001b[0merr\u001b[0m\u001b[0;34m:\u001b[0m\u001b[0;34m\u001b[0m\u001b[0;34m\u001b[0m\u001b[0m\n\u001b[0;32m--> 355\u001b[0;31m             \u001b[0;32mraise\u001b[0m \u001b[0mJSONDecodeError\u001b[0m\u001b[0;34m(\u001b[0m\u001b[0;34m\"Expecting value\"\u001b[0m\u001b[0;34m,\u001b[0m \u001b[0ms\u001b[0m\u001b[0;34m,\u001b[0m \u001b[0merr\u001b[0m\u001b[0;34m.\u001b[0m\u001b[0mvalue\u001b[0m\u001b[0;34m)\u001b[0m \u001b[0;32mfrom\u001b[0m \u001b[0;32mNone\u001b[0m\u001b[0;34m\u001b[0m\u001b[0;34m\u001b[0m\u001b[0m\n\u001b[0m\u001b[1;32m    356\u001b[0m         \u001b[0;32mreturn\u001b[0m \u001b[0mobj\u001b[0m\u001b[0;34m,\u001b[0m \u001b[0mend\u001b[0m\u001b[0;34m\u001b[0m\u001b[0;34m\u001b[0m\u001b[0m\n",
      "\u001b[0;31mJSONDecodeError\u001b[0m: Expecting value: line 1 column 1 (char 0)"
     ]
    }
   ],
   "source": [
    "# 2. 取出每一筆資料的「標題」、「貼文時間」、「留言人數」、「按讚人數」\n",
    "\n",
    "import json\n",
    "data = json.loads(response)\n",
    "\n",
    "for d in data:\n",
    "    print(d['title'])\n"
   ]
  },
  {
   "cell_type": "code",
   "execution_count": 3,
   "metadata": {},
   "outputs": [
    {
     "data": {
      "text/plain": [
       "'\\nYour Code\\n'"
      ]
     },
     "execution_count": 3,
     "metadata": {},
     "output_type": "execute_result"
    }
   ],
   "source": [
    "# 3. 計算熱門/非熱門文章的「平均留言人數」與「平均按讚人數」\n",
    "\n",
    "'''\n",
    "Your Code\n",
    "'''"
   ]
  },
  {
   "cell_type": "code",
   "execution_count": null,
   "metadata": {},
   "outputs": [],
   "source": []
  },
  {
   "cell_type": "code",
   "execution_count": null,
   "metadata": {},
   "outputs": [],
   "source": []
  }
 ],
 "metadata": {
  "kernelspec": {
   "display_name": "Python 3",
   "language": "python",
   "name": "python3"
  },
  "language_info": {
   "codemirror_mode": {
    "name": "ipython",
    "version": 3
   },
   "file_extension": ".py",
   "mimetype": "text/x-python",
   "name": "python",
   "nbconvert_exporter": "python",
   "pygments_lexer": "ipython3",
   "version": "3.9.1"
  }
 },
 "nbformat": 4,
 "nbformat_minor": 2
}
